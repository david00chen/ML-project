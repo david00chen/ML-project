{
 "cells": [
  {
   "cell_type": "code",
   "execution_count": 35,
   "id": "37929ee4",
   "metadata": {},
   "outputs": [],
   "source": [
    "import numpy as np\n",
    "import pandas as pd\n",
    "import matplotlib.pyplot as plt\n",
    "import seaborn as sns\n",
    "import re\n",
    "\n",
    "%matplotlib inline\n",
    "import warnings\n",
    "warnings.filterwarnings(\"ignore\")\n"
   ]
  },
  {
   "cell_type": "code",
   "execution_count": 36,
   "id": "4ff870e7",
   "metadata": {},
   "outputs": [],
   "source": [
    "comments = pd.read_csv('UScomments.csv', on_bad_lines='skip')\n"
   ]
  },
  {
   "cell_type": "code",
   "execution_count": 37,
   "id": "1ef8a20c",
   "metadata": {},
   "outputs": [],
   "source": [
    "videos = pd.read_csv('USvideos.csv', on_bad_lines='skip')"
   ]
  },
  {
   "cell_type": "code",
   "execution_count": 38,
   "id": "a21771ec",
   "metadata": {},
   "outputs": [
    {
     "data": {
      "text/html": [
       "<div>\n",
       "<style scoped>\n",
       "    .dataframe tbody tr th:only-of-type {\n",
       "        vertical-align: middle;\n",
       "    }\n",
       "\n",
       "    .dataframe tbody tr th {\n",
       "        vertical-align: top;\n",
       "    }\n",
       "\n",
       "    .dataframe thead th {\n",
       "        text-align: right;\n",
       "    }\n",
       "</style>\n",
       "<table border=\"1\" class=\"dataframe\">\n",
       "  <thead>\n",
       "    <tr style=\"text-align: right;\">\n",
       "      <th></th>\n",
       "      <th>video_id</th>\n",
       "      <th>comment_text</th>\n",
       "      <th>likes</th>\n",
       "      <th>replies</th>\n",
       "    </tr>\n",
       "  </thead>\n",
       "  <tbody>\n",
       "    <tr>\n",
       "      <th>0</th>\n",
       "      <td>XpVt6Z1Gjjo</td>\n",
       "      <td>Logan Paul it's yo big day ‼️‼️‼️</td>\n",
       "      <td>4</td>\n",
       "      <td>0</td>\n",
       "    </tr>\n",
       "    <tr>\n",
       "      <th>1</th>\n",
       "      <td>XpVt6Z1Gjjo</td>\n",
       "      <td>I've been following you from the start of your...</td>\n",
       "      <td>3</td>\n",
       "      <td>0</td>\n",
       "    </tr>\n",
       "    <tr>\n",
       "      <th>2</th>\n",
       "      <td>XpVt6Z1Gjjo</td>\n",
       "      <td>Say hi to Kong and maverick for me</td>\n",
       "      <td>3</td>\n",
       "      <td>0</td>\n",
       "    </tr>\n",
       "    <tr>\n",
       "      <th>3</th>\n",
       "      <td>XpVt6Z1Gjjo</td>\n",
       "      <td>MY FAN . attendance</td>\n",
       "      <td>3</td>\n",
       "      <td>0</td>\n",
       "    </tr>\n",
       "    <tr>\n",
       "      <th>4</th>\n",
       "      <td>XpVt6Z1Gjjo</td>\n",
       "      <td>trending 😉</td>\n",
       "      <td>3</td>\n",
       "      <td>0</td>\n",
       "    </tr>\n",
       "  </tbody>\n",
       "</table>\n",
       "</div>"
      ],
      "text/plain": [
       "      video_id                                       comment_text likes  \\\n",
       "0  XpVt6Z1Gjjo                  Logan Paul it's yo big day ‼️‼️‼️     4   \n",
       "1  XpVt6Z1Gjjo  I've been following you from the start of your...     3   \n",
       "2  XpVt6Z1Gjjo                 Say hi to Kong and maverick for me     3   \n",
       "3  XpVt6Z1Gjjo                                MY FAN . attendance     3   \n",
       "4  XpVt6Z1Gjjo                                         trending 😉     3   \n",
       "\n",
       "  replies  \n",
       "0       0  \n",
       "1       0  \n",
       "2       0  \n",
       "3       0  \n",
       "4       0  "
      ]
     },
     "execution_count": 38,
     "metadata": {},
     "output_type": "execute_result"
    }
   ],
   "source": [
    "comments.head()"
   ]
  },
  {
   "cell_type": "code",
   "execution_count": 39,
   "id": "98d89ca6",
   "metadata": {
    "scrolled": true
   },
   "outputs": [
    {
     "data": {
      "text/html": [
       "<div>\n",
       "<style scoped>\n",
       "    .dataframe tbody tr th:only-of-type {\n",
       "        vertical-align: middle;\n",
       "    }\n",
       "\n",
       "    .dataframe tbody tr th {\n",
       "        vertical-align: top;\n",
       "    }\n",
       "\n",
       "    .dataframe thead th {\n",
       "        text-align: right;\n",
       "    }\n",
       "</style>\n",
       "<table border=\"1\" class=\"dataframe\">\n",
       "  <thead>\n",
       "    <tr style=\"text-align: right;\">\n",
       "      <th></th>\n",
       "      <th>video_id</th>\n",
       "      <th>title</th>\n",
       "      <th>channel_title</th>\n",
       "      <th>category_id</th>\n",
       "      <th>tags</th>\n",
       "      <th>views</th>\n",
       "      <th>likes</th>\n",
       "      <th>dislikes</th>\n",
       "      <th>comment_total</th>\n",
       "      <th>thumbnail_link</th>\n",
       "      <th>date</th>\n",
       "    </tr>\n",
       "  </thead>\n",
       "  <tbody>\n",
       "    <tr>\n",
       "      <th>0</th>\n",
       "      <td>XpVt6Z1Gjjo</td>\n",
       "      <td>1 YEAR OF VLOGGING -- HOW LOGAN PAUL CHANGED Y...</td>\n",
       "      <td>Logan Paul Vlogs</td>\n",
       "      <td>24</td>\n",
       "      <td>logan paul vlog|logan paul|logan|paul|olympics...</td>\n",
       "      <td>4394029</td>\n",
       "      <td>320053</td>\n",
       "      <td>5931</td>\n",
       "      <td>46245</td>\n",
       "      <td>https://i.ytimg.com/vi/XpVt6Z1Gjjo/default.jpg</td>\n",
       "      <td>13.09</td>\n",
       "    </tr>\n",
       "    <tr>\n",
       "      <th>1</th>\n",
       "      <td>K4wEI5zhHB0</td>\n",
       "      <td>iPhone X — Introducing iPhone X — Apple</td>\n",
       "      <td>Apple</td>\n",
       "      <td>28</td>\n",
       "      <td>Apple|iPhone 10|iPhone Ten|iPhone|Portrait Lig...</td>\n",
       "      <td>7860119</td>\n",
       "      <td>185853</td>\n",
       "      <td>26679</td>\n",
       "      <td>0</td>\n",
       "      <td>https://i.ytimg.com/vi/K4wEI5zhHB0/default.jpg</td>\n",
       "      <td>13.09</td>\n",
       "    </tr>\n",
       "    <tr>\n",
       "      <th>2</th>\n",
       "      <td>cLdxuaxaQwc</td>\n",
       "      <td>My Response</td>\n",
       "      <td>PewDiePie</td>\n",
       "      <td>22</td>\n",
       "      <td>[none]</td>\n",
       "      <td>5845909</td>\n",
       "      <td>576597</td>\n",
       "      <td>39774</td>\n",
       "      <td>170708</td>\n",
       "      <td>https://i.ytimg.com/vi/cLdxuaxaQwc/default.jpg</td>\n",
       "      <td>13.09</td>\n",
       "    </tr>\n",
       "    <tr>\n",
       "      <th>3</th>\n",
       "      <td>WYYvHb03Eog</td>\n",
       "      <td>Apple iPhone X first look</td>\n",
       "      <td>The Verge</td>\n",
       "      <td>28</td>\n",
       "      <td>apple iphone x hands on|Apple iPhone X|iPhone ...</td>\n",
       "      <td>2642103</td>\n",
       "      <td>24975</td>\n",
       "      <td>4542</td>\n",
       "      <td>12829</td>\n",
       "      <td>https://i.ytimg.com/vi/WYYvHb03Eog/default.jpg</td>\n",
       "      <td>13.09</td>\n",
       "    </tr>\n",
       "    <tr>\n",
       "      <th>4</th>\n",
       "      <td>sjlHnJvXdQs</td>\n",
       "      <td>iPhone X (parody)</td>\n",
       "      <td>jacksfilms</td>\n",
       "      <td>23</td>\n",
       "      <td>jacksfilms|parody|parodies|iphone|iphone x|iph...</td>\n",
       "      <td>1168130</td>\n",
       "      <td>96666</td>\n",
       "      <td>568</td>\n",
       "      <td>6666</td>\n",
       "      <td>https://i.ytimg.com/vi/sjlHnJvXdQs/default.jpg</td>\n",
       "      <td>13.09</td>\n",
       "    </tr>\n",
       "  </tbody>\n",
       "</table>\n",
       "</div>"
      ],
      "text/plain": [
       "      video_id                                              title  \\\n",
       "0  XpVt6Z1Gjjo  1 YEAR OF VLOGGING -- HOW LOGAN PAUL CHANGED Y...   \n",
       "1  K4wEI5zhHB0            iPhone X — Introducing iPhone X — Apple   \n",
       "2  cLdxuaxaQwc                                        My Response   \n",
       "3  WYYvHb03Eog                          Apple iPhone X first look   \n",
       "4  sjlHnJvXdQs                                  iPhone X (parody)   \n",
       "\n",
       "      channel_title  category_id  \\\n",
       "0  Logan Paul Vlogs           24   \n",
       "1             Apple           28   \n",
       "2         PewDiePie           22   \n",
       "3         The Verge           28   \n",
       "4        jacksfilms           23   \n",
       "\n",
       "                                                tags    views   likes  \\\n",
       "0  logan paul vlog|logan paul|logan|paul|olympics...  4394029  320053   \n",
       "1  Apple|iPhone 10|iPhone Ten|iPhone|Portrait Lig...  7860119  185853   \n",
       "2                                             [none]  5845909  576597   \n",
       "3  apple iphone x hands on|Apple iPhone X|iPhone ...  2642103   24975   \n",
       "4  jacksfilms|parody|parodies|iphone|iphone x|iph...  1168130   96666   \n",
       "\n",
       "   dislikes  comment_total                                  thumbnail_link  \\\n",
       "0      5931          46245  https://i.ytimg.com/vi/XpVt6Z1Gjjo/default.jpg   \n",
       "1     26679              0  https://i.ytimg.com/vi/K4wEI5zhHB0/default.jpg   \n",
       "2     39774         170708  https://i.ytimg.com/vi/cLdxuaxaQwc/default.jpg   \n",
       "3      4542          12829  https://i.ytimg.com/vi/WYYvHb03Eog/default.jpg   \n",
       "4       568           6666  https://i.ytimg.com/vi/sjlHnJvXdQs/default.jpg   \n",
       "\n",
       "    date  \n",
       "0  13.09  \n",
       "1  13.09  \n",
       "2  13.09  \n",
       "3  13.09  \n",
       "4  13.09  "
      ]
     },
     "execution_count": 39,
     "metadata": {},
     "output_type": "execute_result"
    }
   ],
   "source": [
    "videos.head()"
   ]
  },
  {
   "cell_type": "code",
   "execution_count": 40,
   "id": "64106621",
   "metadata": {
    "scrolled": true
   },
   "outputs": [
    {
     "data": {
      "text/plain": [
       "video_id          2266\n",
       "comment_text    434076\n",
       "likes             1284\n",
       "replies            479\n",
       "dtype: int64"
      ]
     },
     "execution_count": 40,
     "metadata": {},
     "output_type": "execute_result"
    }
   ],
   "source": [
    "comments.nunique()"
   ]
  },
  {
   "cell_type": "code",
   "execution_count": 41,
   "id": "3c3d9353",
   "metadata": {},
   "outputs": [
    {
     "name": "stdout",
     "output_type": "stream",
     "text": [
      "<class 'pandas.core.frame.DataFrame'>\n",
      "RangeIndex: 691400 entries, 0 to 691399\n",
      "Data columns (total 4 columns):\n",
      " #   Column        Non-Null Count   Dtype \n",
      "---  ------        --------------   ----- \n",
      " 0   video_id      691400 non-null  object\n",
      " 1   comment_text  691375 non-null  object\n",
      " 2   likes         691400 non-null  object\n",
      " 3   replies       691400 non-null  object\n",
      "dtypes: object(4)\n",
      "memory usage: 21.1+ MB\n"
     ]
    }
   ],
   "source": [
    "comments.info()"
   ]
  },
  {
   "cell_type": "code",
   "execution_count": 42,
   "id": "97f81d6c",
   "metadata": {},
   "outputs": [
    {
     "data": {
      "text/plain": [
       "video_id         0\n",
       "comment_text    25\n",
       "likes            0\n",
       "replies          0\n",
       "dtype: int64"
      ]
     },
     "execution_count": 42,
     "metadata": {},
     "output_type": "execute_result"
    }
   ],
   "source": [
    "comments.isnull().sum()"
   ]
  },
  {
   "cell_type": "code",
   "execution_count": 43,
   "id": "1452a98d",
   "metadata": {},
   "outputs": [],
   "source": [
    "comments.dropna(inplace=True)"
   ]
  },
  {
   "cell_type": "code",
   "execution_count": 44,
   "id": "c45136be",
   "metadata": {},
   "outputs": [
    {
     "data": {
      "text/plain": [
       "video_id         _ANP3HR1jsM\n",
       "comment_text    comment_text\n",
       "likes                  likes\n",
       "replies              replies\n",
       "Name: 41587, dtype: object"
      ]
     },
     "execution_count": 44,
     "metadata": {},
     "output_type": "execute_result"
    }
   ],
   "source": [
    "comments.loc[41587]"
   ]
  },
  {
   "cell_type": "code",
   "execution_count": 45,
   "id": "41b5b13b",
   "metadata": {},
   "outputs": [],
   "source": [
    "comments.drop(41587, inplace=True)"
   ]
  },
  {
   "cell_type": "code",
   "execution_count": 46,
   "id": "12ce289d",
   "metadata": {},
   "outputs": [],
   "source": [
    "comments = comments.reset_index().drop('index',axis=1)"
   ]
  },
  {
   "cell_type": "code",
   "execution_count": 47,
   "id": "c2d4b774",
   "metadata": {},
   "outputs": [],
   "source": [
    "comments.likes = comments.likes.astype(int)\n",
    "comments.replies = comments.replies.astype(int)"
   ]
  },
  {
   "cell_type": "code",
   "execution_count": 48,
   "id": "904ddbe4",
   "metadata": {},
   "outputs": [
    {
     "name": "stdout",
     "output_type": "stream",
     "text": [
      "<class 'pandas.core.frame.DataFrame'>\n",
      "RangeIndex: 691374 entries, 0 to 691373\n",
      "Data columns (total 4 columns):\n",
      " #   Column        Non-Null Count   Dtype \n",
      "---  ------        --------------   ----- \n",
      " 0   video_id      691374 non-null  object\n",
      " 1   comment_text  691374 non-null  object\n",
      " 2   likes         691374 non-null  int32 \n",
      " 3   replies       691374 non-null  int32 \n",
      "dtypes: int32(2), object(2)\n",
      "memory usage: 15.8+ MB\n"
     ]
    }
   ],
   "source": [
    "comments.info()"
   ]
  },
  {
   "cell_type": "code",
   "execution_count": 49,
   "id": "88b5f214",
   "metadata": {},
   "outputs": [
    {
     "data": {
      "text/plain": [
       "video_id          2364\n",
       "title             2398\n",
       "channel_title     1230\n",
       "category_id         16\n",
       "tags              2204\n",
       "views             7939\n",
       "likes             6624\n",
       "dislikes          2531\n",
       "comment_total     4152\n",
       "thumbnail_link    2364\n",
       "date                40\n",
       "dtype: int64"
      ]
     },
     "execution_count": 49,
     "metadata": {},
     "output_type": "execute_result"
    }
   ],
   "source": [
    "videos.nunique()"
   ]
  },
  {
   "cell_type": "code",
   "execution_count": 50,
   "id": "6d11374a",
   "metadata": {},
   "outputs": [],
   "source": [
    "comments['comment_text'] = comments['comment_text'].str.replace(\"[^a-zA-Z#]\", \" \")"
   ]
  },
  {
   "cell_type": "code",
   "execution_count": 51,
   "id": "c8b1a63e",
   "metadata": {
    "scrolled": true
   },
   "outputs": [],
   "source": [
    "comments['comment_text'] = comments['comment_text'].apply(lambda x: ' '.join([w for w in x.split() if len(w)>3]))"
   ]
  },
  {
   "cell_type": "code",
   "execution_count": 52,
   "id": "d6b312be",
   "metadata": {},
   "outputs": [],
   "source": [
    "comments['comment_text'] = comments['comment_text'].apply(lambda x:x.lower())"
   ]
  },
  {
   "cell_type": "code",
   "execution_count": 53,
   "id": "d0a9eeba",
   "metadata": {},
   "outputs": [
    {
     "data": {
      "text/plain": [
       "0                                        [logan, paul]\n",
       "1    [been, following, from, start, your, vine, cha...\n",
       "2                                     [kong, maverick]\n",
       "3                                         [attendance]\n",
       "4                                           [trending]\n",
       "Name: comment_text, dtype: object"
      ]
     },
     "execution_count": 53,
     "metadata": {},
     "output_type": "execute_result"
    }
   ],
   "source": [
    "tokenized_tweet = comments['comment_text'].apply(lambda x: x.split())\n",
    "tokenized_tweet.head()"
   ]
  },
  {
   "cell_type": "code",
   "execution_count": 54,
   "id": "2d0f55cb",
   "metadata": {},
   "outputs": [],
   "source": [
    "from nltk.stem import WordNetLemmatizer\n",
    "from nltk.corpus import stopwords"
   ]
  },
  {
   "cell_type": "code",
   "execution_count": 55,
   "id": "742fd75f",
   "metadata": {},
   "outputs": [],
   "source": [
    "wnl = WordNetLemmatizer()"
   ]
  },
  {
   "cell_type": "code",
   "execution_count": 56,
   "id": "41ba6309",
   "metadata": {},
   "outputs": [
    {
     "data": {
      "text/plain": [
       "0                                        [logan, paul]\n",
       "1    [been, following, from, start, your, vine, cha...\n",
       "2                                     [kong, maverick]\n",
       "3                                         [attendance]\n",
       "4                                           [trending]\n",
       "Name: comment_text, dtype: object"
      ]
     },
     "execution_count": 56,
     "metadata": {},
     "output_type": "execute_result"
    }
   ],
   "source": [
    "tokenized_tweet.apply(lambda x: [wnl.lemmatize(i) for i in x if i not in set(stopwords.words('english'))]) \n",
    "tokenized_tweet.head()"
   ]
  },
  {
   "cell_type": "code",
   "execution_count": 57,
   "id": "e9878ad3",
   "metadata": {},
   "outputs": [],
   "source": [
    "a = tokenized_tweet.copy()"
   ]
  },
  {
   "cell_type": "code",
   "execution_count": 58,
   "id": "867c1814",
   "metadata": {},
   "outputs": [
    {
     "data": {
      "text/plain": [
       "0                                        [logan, paul]\n",
       "1    [been, following, from, start, your, vine, cha...\n",
       "2                                     [kong, maverick]\n",
       "3                                         [attendance]\n",
       "4                                           [trending]\n",
       "Name: comment_text, dtype: object"
      ]
     },
     "execution_count": 58,
     "metadata": {},
     "output_type": "execute_result"
    }
   ],
   "source": [
    "a.head()"
   ]
  },
  {
   "cell_type": "code",
   "execution_count": 59,
   "id": "c3d3c6e8",
   "metadata": {
    "scrolled": false
   },
   "outputs": [],
   "source": [
    "for i in range(len(a)):\n",
    "    a[i] = ' '.join(a[i])"
   ]
  },
  {
   "cell_type": "code",
   "execution_count": 60,
   "id": "39ba1631",
   "metadata": {},
   "outputs": [],
   "source": [
    "comments['token_text'] = a"
   ]
  },
  {
   "cell_type": "code",
   "execution_count": 61,
   "id": "0296f77e",
   "metadata": {},
   "outputs": [
    {
     "name": "stderr",
     "output_type": "stream",
     "text": [
      "[nltk_data] Downloading package vader_lexicon to\n",
      "[nltk_data]     C:\\Users\\USER\\AppData\\Roaming\\nltk_data...\n",
      "[nltk_data]   Package vader_lexicon is already up-to-date!\n"
     ]
    }
   ],
   "source": [
    "import nltk\n",
    "nltk.download('vader_lexicon')\n",
    "from nltk.sentiment.vader import SentimentIntensityAnalyzer\n",
    "sia = SentimentIntensityAnalyzer()"
   ]
  },
  {
   "cell_type": "code",
   "execution_count": 62,
   "id": "0b18b1a2",
   "metadata": {},
   "outputs": [],
   "source": [
    "comments['Sentiment Scores'] = comments['token_text'].apply(lambda x:sia.polarity_scores(x)['compound'])"
   ]
  },
  {
   "cell_type": "code",
   "execution_count": 63,
   "id": "f9205a03",
   "metadata": {},
   "outputs": [
    {
     "data": {
      "text/html": [
       "<div>\n",
       "<style scoped>\n",
       "    .dataframe tbody tr th:only-of-type {\n",
       "        vertical-align: middle;\n",
       "    }\n",
       "\n",
       "    .dataframe tbody tr th {\n",
       "        vertical-align: top;\n",
       "    }\n",
       "\n",
       "    .dataframe thead th {\n",
       "        text-align: right;\n",
       "    }\n",
       "</style>\n",
       "<table border=\"1\" class=\"dataframe\">\n",
       "  <thead>\n",
       "    <tr style=\"text-align: right;\">\n",
       "      <th></th>\n",
       "      <th>video_id</th>\n",
       "      <th>comment_text</th>\n",
       "      <th>likes</th>\n",
       "      <th>replies</th>\n",
       "      <th>token_text</th>\n",
       "      <th>Sentiment Scores</th>\n",
       "    </tr>\n",
       "  </thead>\n",
       "  <tbody>\n",
       "    <tr>\n",
       "      <th>0</th>\n",
       "      <td>XpVt6Z1Gjjo</td>\n",
       "      <td>logan paul</td>\n",
       "      <td>4</td>\n",
       "      <td>0</td>\n",
       "      <td>logan paul</td>\n",
       "      <td>0.0</td>\n",
       "    </tr>\n",
       "    <tr>\n",
       "      <th>1</th>\n",
       "      <td>XpVt6Z1Gjjo</td>\n",
       "      <td>been following from start your vine channel ha...</td>\n",
       "      <td>3</td>\n",
       "      <td>0</td>\n",
       "      <td>been following from start your vine channel ha...</td>\n",
       "      <td>0.0</td>\n",
       "    </tr>\n",
       "    <tr>\n",
       "      <th>2</th>\n",
       "      <td>XpVt6Z1Gjjo</td>\n",
       "      <td>kong maverick</td>\n",
       "      <td>3</td>\n",
       "      <td>0</td>\n",
       "      <td>kong maverick</td>\n",
       "      <td>0.0</td>\n",
       "    </tr>\n",
       "    <tr>\n",
       "      <th>3</th>\n",
       "      <td>XpVt6Z1Gjjo</td>\n",
       "      <td>attendance</td>\n",
       "      <td>3</td>\n",
       "      <td>0</td>\n",
       "      <td>attendance</td>\n",
       "      <td>0.0</td>\n",
       "    </tr>\n",
       "    <tr>\n",
       "      <th>4</th>\n",
       "      <td>XpVt6Z1Gjjo</td>\n",
       "      <td>trending</td>\n",
       "      <td>3</td>\n",
       "      <td>0</td>\n",
       "      <td>trending</td>\n",
       "      <td>0.0</td>\n",
       "    </tr>\n",
       "  </tbody>\n",
       "</table>\n",
       "</div>"
      ],
      "text/plain": [
       "      video_id                                       comment_text  likes  \\\n",
       "0  XpVt6Z1Gjjo                                         logan paul      4   \n",
       "1  XpVt6Z1Gjjo  been following from start your vine channel ha...      3   \n",
       "2  XpVt6Z1Gjjo                                      kong maverick      3   \n",
       "3  XpVt6Z1Gjjo                                         attendance      3   \n",
       "4  XpVt6Z1Gjjo                                           trending      3   \n",
       "\n",
       "   replies                                         token_text  \\\n",
       "0        0                                         logan paul   \n",
       "1        0  been following from start your vine channel ha...   \n",
       "2        0                                      kong maverick   \n",
       "3        0                                         attendance   \n",
       "4        0                                           trending   \n",
       "\n",
       "   Sentiment Scores  \n",
       "0               0.0  \n",
       "1               0.0  \n",
       "2               0.0  \n",
       "3               0.0  \n",
       "4               0.0  "
      ]
     },
     "execution_count": 63,
     "metadata": {},
     "output_type": "execute_result"
    }
   ],
   "source": [
    "comments.head()"
   ]
  },
  {
   "cell_type": "code",
   "execution_count": 64,
   "id": "599f9e11",
   "metadata": {},
   "outputs": [],
   "source": [
    "comments['Sentiment'] = \\\n",
    "comments['Sentiment Scores'].apply(lambda s : 'Positive' if s > 0 else ('Neutral' if s == 0 else 'Negative'))"
   ]
  },
  {
   "cell_type": "code",
   "execution_count": 67,
   "id": "3dcb892b",
   "metadata": {},
   "outputs": [
    {
     "data": {
      "text/html": [
       "<div>\n",
       "<style scoped>\n",
       "    .dataframe tbody tr th:only-of-type {\n",
       "        vertical-align: middle;\n",
       "    }\n",
       "\n",
       "    .dataframe tbody tr th {\n",
       "        vertical-align: top;\n",
       "    }\n",
       "\n",
       "    .dataframe thead th {\n",
       "        text-align: right;\n",
       "    }\n",
       "</style>\n",
       "<table border=\"1\" class=\"dataframe\">\n",
       "  <thead>\n",
       "    <tr style=\"text-align: right;\">\n",
       "      <th></th>\n",
       "      <th>video_id</th>\n",
       "      <th>comment_text</th>\n",
       "      <th>likes</th>\n",
       "      <th>replies</th>\n",
       "      <th>token_text</th>\n",
       "      <th>Sentiment Scores</th>\n",
       "      <th>Sentiment</th>\n",
       "    </tr>\n",
       "  </thead>\n",
       "  <tbody>\n",
       "    <tr>\n",
       "      <th>0</th>\n",
       "      <td>XpVt6Z1Gjjo</td>\n",
       "      <td>logan paul</td>\n",
       "      <td>4</td>\n",
       "      <td>0</td>\n",
       "      <td>logan paul</td>\n",
       "      <td>0.0</td>\n",
       "      <td>Neutral</td>\n",
       "    </tr>\n",
       "    <tr>\n",
       "      <th>1</th>\n",
       "      <td>XpVt6Z1Gjjo</td>\n",
       "      <td>been following from start your vine channel ha...</td>\n",
       "      <td>3</td>\n",
       "      <td>0</td>\n",
       "      <td>been following from start your vine channel ha...</td>\n",
       "      <td>0.0</td>\n",
       "      <td>Neutral</td>\n",
       "    </tr>\n",
       "    <tr>\n",
       "      <th>2</th>\n",
       "      <td>XpVt6Z1Gjjo</td>\n",
       "      <td>kong maverick</td>\n",
       "      <td>3</td>\n",
       "      <td>0</td>\n",
       "      <td>kong maverick</td>\n",
       "      <td>0.0</td>\n",
       "      <td>Neutral</td>\n",
       "    </tr>\n",
       "    <tr>\n",
       "      <th>3</th>\n",
       "      <td>XpVt6Z1Gjjo</td>\n",
       "      <td>attendance</td>\n",
       "      <td>3</td>\n",
       "      <td>0</td>\n",
       "      <td>attendance</td>\n",
       "      <td>0.0</td>\n",
       "      <td>Neutral</td>\n",
       "    </tr>\n",
       "    <tr>\n",
       "      <th>4</th>\n",
       "      <td>XpVt6Z1Gjjo</td>\n",
       "      <td>trending</td>\n",
       "      <td>3</td>\n",
       "      <td>0</td>\n",
       "      <td>trending</td>\n",
       "      <td>0.0</td>\n",
       "      <td>Neutral</td>\n",
       "    </tr>\n",
       "  </tbody>\n",
       "</table>\n",
       "</div>"
      ],
      "text/plain": [
       "      video_id                                       comment_text  likes  \\\n",
       "0  XpVt6Z1Gjjo                                         logan paul      4   \n",
       "1  XpVt6Z1Gjjo  been following from start your vine channel ha...      3   \n",
       "2  XpVt6Z1Gjjo                                      kong maverick      3   \n",
       "3  XpVt6Z1Gjjo                                         attendance      3   \n",
       "4  XpVt6Z1Gjjo                                           trending      3   \n",
       "\n",
       "   replies                                         token_text  \\\n",
       "0        0                                         logan paul   \n",
       "1        0  been following from start your vine channel ha...   \n",
       "2        0                                      kong maverick   \n",
       "3        0                                         attendance   \n",
       "4        0                                           trending   \n",
       "\n",
       "   Sentiment Scores Sentiment  \n",
       "0               0.0   Neutral  \n",
       "1               0.0   Neutral  \n",
       "2               0.0   Neutral  \n",
       "3               0.0   Neutral  \n",
       "4               0.0   Neutral  "
      ]
     },
     "execution_count": 67,
     "metadata": {},
     "output_type": "execute_result"
    }
   ],
   "source": [
    "comments.head()"
   ]
  },
  {
   "cell_type": "code",
   "execution_count": 66,
   "id": "f339357a",
   "metadata": {
    "scrolled": true
   },
   "outputs": [
    {
     "data": {
      "text/plain": [
       "Positive    305358\n",
       "Neutral     260986\n",
       "Negative    125030\n",
       "Name: Sentiment, dtype: int64"
      ]
     },
     "execution_count": 66,
     "metadata": {},
     "output_type": "execute_result"
    }
   ],
   "source": [
    "comments.Sentiment.value_counts()"
   ]
  },
  {
   "cell_type": "code",
   "execution_count": 141,
   "id": "d0a4b5c2",
   "metadata": {},
   "outputs": [
    {
     "data": {
      "text/plain": [
       "691374"
      ]
     },
     "execution_count": 141,
     "metadata": {},
     "output_type": "execute_result"
    }
   ],
   "source": [
    "len(comments)"
   ]
  },
  {
   "cell_type": "code",
   "execution_count": 145,
   "id": "5a0a7f16",
   "metadata": {},
   "outputs": [],
   "source": [
    "channels = []\n",
    "for i in range(len(comments)):\n",
    "    channels.append(Positivity[Positivity.video_id == comments.video_id[i]]['Channel'].unique()[0])"
   ]
  },
  {
   "cell_type": "code",
   "execution_count": 146,
   "id": "1e55dedb",
   "metadata": {},
   "outputs": [],
   "source": [
    "comments['channel'] = channels"
   ]
  },
  {
   "cell_type": "code",
   "execution_count": 164,
   "id": "e7c268a3",
   "metadata": {
    "scrolled": true
   },
   "outputs": [
    {
     "data": {
      "text/html": [
       "<div>\n",
       "<style scoped>\n",
       "    .dataframe tbody tr th:only-of-type {\n",
       "        vertical-align: middle;\n",
       "    }\n",
       "\n",
       "    .dataframe tbody tr th {\n",
       "        vertical-align: top;\n",
       "    }\n",
       "\n",
       "    .dataframe thead th {\n",
       "        text-align: right;\n",
       "    }\n",
       "</style>\n",
       "<table border=\"1\" class=\"dataframe\">\n",
       "  <thead>\n",
       "    <tr style=\"text-align: right;\">\n",
       "      <th></th>\n",
       "      <th>video_id</th>\n",
       "      <th>comment_text</th>\n",
       "      <th>likes</th>\n",
       "      <th>replies</th>\n",
       "      <th>token_text</th>\n",
       "      <th>Sentiment Scores</th>\n",
       "      <th>Sentiment</th>\n",
       "      <th>channel</th>\n",
       "    </tr>\n",
       "  </thead>\n",
       "  <tbody>\n",
       "    <tr>\n",
       "      <th>0</th>\n",
       "      <td>XpVt6Z1Gjjo</td>\n",
       "      <td>logan paul</td>\n",
       "      <td>4</td>\n",
       "      <td>0</td>\n",
       "      <td>logan paul</td>\n",
       "      <td>0.0</td>\n",
       "      <td>Neutral</td>\n",
       "      <td>Logan Paul Vlogs</td>\n",
       "    </tr>\n",
       "    <tr>\n",
       "      <th>1</th>\n",
       "      <td>XpVt6Z1Gjjo</td>\n",
       "      <td>been following from start your vine channel ha...</td>\n",
       "      <td>3</td>\n",
       "      <td>0</td>\n",
       "      <td>been following from start your vine channel ha...</td>\n",
       "      <td>0.0</td>\n",
       "      <td>Neutral</td>\n",
       "      <td>Logan Paul Vlogs</td>\n",
       "    </tr>\n",
       "    <tr>\n",
       "      <th>2</th>\n",
       "      <td>XpVt6Z1Gjjo</td>\n",
       "      <td>kong maverick</td>\n",
       "      <td>3</td>\n",
       "      <td>0</td>\n",
       "      <td>kong maverick</td>\n",
       "      <td>0.0</td>\n",
       "      <td>Neutral</td>\n",
       "      <td>Logan Paul Vlogs</td>\n",
       "    </tr>\n",
       "    <tr>\n",
       "      <th>3</th>\n",
       "      <td>XpVt6Z1Gjjo</td>\n",
       "      <td>attendance</td>\n",
       "      <td>3</td>\n",
       "      <td>0</td>\n",
       "      <td>attendance</td>\n",
       "      <td>0.0</td>\n",
       "      <td>Neutral</td>\n",
       "      <td>Logan Paul Vlogs</td>\n",
       "    </tr>\n",
       "    <tr>\n",
       "      <th>4</th>\n",
       "      <td>XpVt6Z1Gjjo</td>\n",
       "      <td>trending</td>\n",
       "      <td>3</td>\n",
       "      <td>0</td>\n",
       "      <td>trending</td>\n",
       "      <td>0.0</td>\n",
       "      <td>Neutral</td>\n",
       "      <td>Logan Paul Vlogs</td>\n",
       "    </tr>\n",
       "  </tbody>\n",
       "</table>\n",
       "</div>"
      ],
      "text/plain": [
       "      video_id                                       comment_text  likes  \\\n",
       "0  XpVt6Z1Gjjo                                         logan paul      4   \n",
       "1  XpVt6Z1Gjjo  been following from start your vine channel ha...      3   \n",
       "2  XpVt6Z1Gjjo                                      kong maverick      3   \n",
       "3  XpVt6Z1Gjjo                                         attendance      3   \n",
       "4  XpVt6Z1Gjjo                                           trending      3   \n",
       "\n",
       "   replies                                         token_text  \\\n",
       "0        0                                         logan paul   \n",
       "1        0  been following from start your vine channel ha...   \n",
       "2        0                                      kong maverick   \n",
       "3        0                                         attendance   \n",
       "4        0                                           trending   \n",
       "\n",
       "   Sentiment Scores Sentiment           channel  \n",
       "0               0.0   Neutral  Logan Paul Vlogs  \n",
       "1               0.0   Neutral  Logan Paul Vlogs  \n",
       "2               0.0   Neutral  Logan Paul Vlogs  \n",
       "3               0.0   Neutral  Logan Paul Vlogs  \n",
       "4               0.0   Neutral  Logan Paul Vlogs  "
      ]
     },
     "execution_count": 164,
     "metadata": {},
     "output_type": "execute_result"
    }
   ],
   "source": [
    "comments.head()"
   ]
  },
  {
   "cell_type": "code",
   "execution_count": null,
   "id": "6b6ba069",
   "metadata": {},
   "outputs": [],
   "source": [
    "import dash # 建立dash\n",
    "import dash_table # 要轉成資料框必用\n",
    "from dash.dependencies import Input, Output # 在callback時使用\n",
    "import dash_core_components as dcc # 製作Dashboard上的功能\n",
    "import dash_html_components as html # 製作Dashboard網頁\n",
    "import plotly.graph_objs as go # 畫各種圖\n",
    "import plotly.express as px"
   ]
  },
  {
   "cell_type": "code",
   "execution_count": 188,
   "id": "0eb31a29",
   "metadata": {},
   "outputs": [
    {
     "name": "stdout",
     "output_type": "stream",
     "text": [
      "Dash is running on http://127.0.0.1:8050/\n",
      "\n",
      "Dash is running on http://127.0.0.1:8050/\n",
      "\n",
      "Dash is running on http://127.0.0.1:8050/\n",
      "\n",
      "Dash is running on http://127.0.0.1:8050/\n",
      "\n",
      "Dash is running on http://127.0.0.1:8050/\n",
      "\n",
      "Dash is running on http://127.0.0.1:8050/\n",
      "\n",
      "Dash is running on http://127.0.0.1:8050/\n",
      "\n",
      "Dash is running on http://127.0.0.1:8050/\n",
      "\n",
      "Dash is running on http://127.0.0.1:8050/\n",
      "\n",
      "Dash is running on http://127.0.0.1:8050/\n",
      "\n",
      "Dash is running on http://127.0.0.1:8050/\n",
      "\n",
      "Dash is running on http://127.0.0.1:8050/\n",
      "\n",
      "Dash is running on http://127.0.0.1:8050/\n",
      "\n",
      "Dash is running on http://127.0.0.1:8050/\n",
      "\n",
      "Dash is running on http://127.0.0.1:8050/\n",
      "\n",
      "Dash is running on http://127.0.0.1:8050/\n",
      "\n",
      "Dash is running on http://127.0.0.1:8050/\n",
      "\n",
      "Dash is running on http://127.0.0.1:8050/\n",
      "\n",
      "Dash is running on http://127.0.0.1:8050/\n",
      "\n",
      "Dash is running on http://127.0.0.1:8050/\n",
      "\n",
      "Dash is running on http://127.0.0.1:8050/\n",
      "\n",
      "Dash is running on http://127.0.0.1:8050/\n",
      "\n",
      "Dash is running on http://127.0.0.1:8050/\n",
      "\n",
      "Dash is running on http://127.0.0.1:8050/\n",
      "\n",
      " * Serving Flask app \"__main__\" (lazy loading)\n",
      " * Environment: production\n",
      "\u001b[31m   WARNING: This is a development server. Do not use it in a production deployment.\u001b[0m\n",
      "\u001b[2m   Use a production WSGI server instead.\u001b[0m\n",
      " * Debug mode: off\n"
     ]
    },
    {
     "name": "stderr",
     "output_type": "stream",
     "text": [
      " * Running on http://127.0.0.1:8050/ (Press CTRL+C to quit)\n",
      "127.0.0.1 - - [09/May/2022 23:24:17] \"GET / HTTP/1.1\" 200 -\n",
      "127.0.0.1 - - [09/May/2022 23:24:17] \"GET /_dash-layout HTTP/1.1\" 200 -\n",
      "127.0.0.1 - - [09/May/2022 23:24:17] \"GET /_dash-dependencies HTTP/1.1\" 200 -\n",
      "127.0.0.1 - - [09/May/2022 23:24:17] \"GET /_dash-component-suites/dash/dcc/async-graph.js HTTP/1.1\" 304 -\n",
      "127.0.0.1 - - [09/May/2022 23:24:17] \"GET /_dash-component-suites/dash/dcc/async-dropdown.js HTTP/1.1\" 304 -\n",
      "127.0.0.1 - - [09/May/2022 23:24:17] \"GET /_dash-component-suites/dash/dcc/async-plotlyjs.js HTTP/1.1\" 304 -\n",
      "127.0.0.1 - - [09/May/2022 23:24:18] \"POST /_dash-update-component HTTP/1.1\" 200 -\n",
      "127.0.0.1 - - [09/May/2022 23:24:21] \"POST /_dash-update-component HTTP/1.1\" 200 -\n",
      "127.0.0.1 - - [09/May/2022 23:24:22] \"POST /_dash-update-component HTTP/1.1\" 200 -\n"
     ]
    }
   ],
   "source": [
    "app = dash.Dash(__name__)\n",
    "\n",
    "app.layout = html.Div([\n",
    "    \n",
    "                html.Label('Youtube Sentiment Analysis'),\n",
    "                dcc.Dropdown(\n",
    "                    id='video_dropdown',\n",
    "                    options=comments.channel.unique().tolist(),\n",
    "                    placeholder='Search a Video',\n",
    "                    clearable=False,\n",
    "                    \n",
    "                    value='Logan Paul Vlogs',\n",
    "                    style = {'width':'45%'}\n",
    "                ),\n",
    "                \n",
    "            dcc.Graph(\n",
    "                    id='Pie-Chart'),\n",
    "])       \n",
    "    \n",
    "    \n",
    "@app.callback(Output('Pie-Chart', 'figure'),\n",
    "            [Input('video_dropdown', 'value')])\n",
    "    \n",
    "def plot_pie_chart(video_dropdown):\n",
    "    \n",
    "    dff = comments.copy()\n",
    "    piechart = px.pie(\n",
    "                        data_frame = dff[dff['channel'] == video_dropdown],\n",
    "                        names = 'Sentiment',\n",
    "                        hole = .3,\n",
    "                        )\n",
    "    \n",
    "    return piechart\n",
    "    \n",
    "    \n",
    "if __name__ == '__main__':\n",
    "    app.run_server(debug=False)"
   ]
  },
  {
   "cell_type": "code",
   "execution_count": 68,
   "id": "ae642895",
   "metadata": {},
   "outputs": [],
   "source": [
    "percentage = pd.DataFrame(comments  ,comments.video_id.unique()).reset_index()"
   ]
  },
  {
   "cell_type": "code",
   "execution_count": 73,
   "id": "713708a7",
   "metadata": {},
   "outputs": [],
   "source": [
    "videos_id = []\n",
    "for i in range(0,comments.video_id.nunique()):\n",
    "    a = comments[(comments.video_id == comments.video_id.unique()[i]) & (comments.Sentiment == 'Positive')].count()[0]\n",
    "    b = comments[comments.video_id == comments.video_id.unique()[i]]['Sentiment'].value_counts().sum()\n",
    "    Percentage = (a/b)*100\n",
    "    videos_id.append(round(Percentage,2))"
   ]
  },
  {
   "cell_type": "code",
   "execution_count": 74,
   "id": "6e60b2c1",
   "metadata": {},
   "outputs": [],
   "source": [
    "Positivity = pd.DataFrame(videos_id,comments.video_id.unique()).reset_index()\n"
   ]
  },
  {
   "cell_type": "code",
   "execution_count": 75,
   "id": "347b6a25",
   "metadata": {},
   "outputs": [],
   "source": [
    "Positivity.columns = ['video_id','Positive Percentage']"
   ]
  },
  {
   "cell_type": "code",
   "execution_count": 76,
   "id": "48417c0d",
   "metadata": {},
   "outputs": [
    {
     "data": {
      "text/html": [
       "<div>\n",
       "<style scoped>\n",
       "    .dataframe tbody tr th:only-of-type {\n",
       "        vertical-align: middle;\n",
       "    }\n",
       "\n",
       "    .dataframe tbody tr th {\n",
       "        vertical-align: top;\n",
       "    }\n",
       "\n",
       "    .dataframe thead th {\n",
       "        text-align: right;\n",
       "    }\n",
       "</style>\n",
       "<table border=\"1\" class=\"dataframe\">\n",
       "  <thead>\n",
       "    <tr style=\"text-align: right;\">\n",
       "      <th></th>\n",
       "      <th>video_id</th>\n",
       "      <th>Positive Percentage</th>\n",
       "    </tr>\n",
       "  </thead>\n",
       "  <tbody>\n",
       "    <tr>\n",
       "      <th>0</th>\n",
       "      <td>XpVt6Z1Gjjo</td>\n",
       "      <td>34.38</td>\n",
       "    </tr>\n",
       "    <tr>\n",
       "      <th>1</th>\n",
       "      <td>cLdxuaxaQwc</td>\n",
       "      <td>35.54</td>\n",
       "    </tr>\n",
       "    <tr>\n",
       "      <th>2</th>\n",
       "      <td>WYYvHb03Eog</td>\n",
       "      <td>37.25</td>\n",
       "    </tr>\n",
       "    <tr>\n",
       "      <th>3</th>\n",
       "      <td>sjlHnJvXdQs</td>\n",
       "      <td>37.62</td>\n",
       "    </tr>\n",
       "    <tr>\n",
       "      <th>4</th>\n",
       "      <td>cMKX2tE5Luk</td>\n",
       "      <td>41.57</td>\n",
       "    </tr>\n",
       "  </tbody>\n",
       "</table>\n",
       "</div>"
      ],
      "text/plain": [
       "      video_id  Positive Percentage\n",
       "0  XpVt6Z1Gjjo                34.38\n",
       "1  cLdxuaxaQwc                35.54\n",
       "2  WYYvHb03Eog                37.25\n",
       "3  sjlHnJvXdQs                37.62\n",
       "4  cMKX2tE5Luk                41.57"
      ]
     },
     "execution_count": 76,
     "metadata": {},
     "output_type": "execute_result"
    }
   ],
   "source": [
    "Positivity.head()"
   ]
  },
  {
   "cell_type": "code",
   "execution_count": 77,
   "id": "473dc412",
   "metadata": {},
   "outputs": [],
   "source": [
    "channels = []\n",
    "for i in range(0,Positivity.video_id.nunique()):\n",
    "    channels.append(videos[videos.video_id == Positivity.video_id.unique()[i]]['channel_title'].unique()[0])"
   ]
  },
  {
   "cell_type": "code",
   "execution_count": 78,
   "id": "97eed6e1",
   "metadata": {},
   "outputs": [],
   "source": [
    "Positivity['Channel'] = channels"
   ]
  },
  {
   "cell_type": "code",
   "execution_count": 79,
   "id": "ba9704ae",
   "metadata": {},
   "outputs": [
    {
     "data": {
      "text/html": [
       "<div>\n",
       "<style scoped>\n",
       "    .dataframe tbody tr th:only-of-type {\n",
       "        vertical-align: middle;\n",
       "    }\n",
       "\n",
       "    .dataframe tbody tr th {\n",
       "        vertical-align: top;\n",
       "    }\n",
       "\n",
       "    .dataframe thead th {\n",
       "        text-align: right;\n",
       "    }\n",
       "</style>\n",
       "<table border=\"1\" class=\"dataframe\">\n",
       "  <thead>\n",
       "    <tr style=\"text-align: right;\">\n",
       "      <th></th>\n",
       "      <th>video_id</th>\n",
       "      <th>Positive Percentage</th>\n",
       "      <th>Channel</th>\n",
       "    </tr>\n",
       "  </thead>\n",
       "  <tbody>\n",
       "    <tr>\n",
       "      <th>0</th>\n",
       "      <td>XpVt6Z1Gjjo</td>\n",
       "      <td>34.38</td>\n",
       "      <td>Logan Paul Vlogs</td>\n",
       "    </tr>\n",
       "    <tr>\n",
       "      <th>1</th>\n",
       "      <td>cLdxuaxaQwc</td>\n",
       "      <td>35.54</td>\n",
       "      <td>PewDiePie</td>\n",
       "    </tr>\n",
       "    <tr>\n",
       "      <th>2</th>\n",
       "      <td>WYYvHb03Eog</td>\n",
       "      <td>37.25</td>\n",
       "      <td>The Verge</td>\n",
       "    </tr>\n",
       "    <tr>\n",
       "      <th>3</th>\n",
       "      <td>sjlHnJvXdQs</td>\n",
       "      <td>37.62</td>\n",
       "      <td>jacksfilms</td>\n",
       "    </tr>\n",
       "    <tr>\n",
       "      <th>4</th>\n",
       "      <td>cMKX2tE5Luk</td>\n",
       "      <td>41.57</td>\n",
       "      <td>A24</td>\n",
       "    </tr>\n",
       "  </tbody>\n",
       "</table>\n",
       "</div>"
      ],
      "text/plain": [
       "      video_id  Positive Percentage           Channel\n",
       "0  XpVt6Z1Gjjo                34.38  Logan Paul Vlogs\n",
       "1  cLdxuaxaQwc                35.54         PewDiePie\n",
       "2  WYYvHb03Eog                37.25         The Verge\n",
       "3  sjlHnJvXdQs                37.62        jacksfilms\n",
       "4  cMKX2tE5Luk                41.57               A24"
      ]
     },
     "execution_count": 79,
     "metadata": {},
     "output_type": "execute_result"
    }
   ],
   "source": [
    "Positivity.head()"
   ]
  },
  {
   "cell_type": "code",
   "execution_count": 80,
   "id": "746e7839",
   "metadata": {},
   "outputs": [
    {
     "data": {
      "text/html": [
       "<div>\n",
       "<style scoped>\n",
       "    .dataframe tbody tr th:only-of-type {\n",
       "        vertical-align: middle;\n",
       "    }\n",
       "\n",
       "    .dataframe tbody tr th {\n",
       "        vertical-align: top;\n",
       "    }\n",
       "\n",
       "    .dataframe thead th {\n",
       "        text-align: right;\n",
       "    }\n",
       "</style>\n",
       "<table border=\"1\" class=\"dataframe\">\n",
       "  <thead>\n",
       "    <tr style=\"text-align: right;\">\n",
       "      <th></th>\n",
       "      <th>video_id</th>\n",
       "      <th>Positive Percentage</th>\n",
       "      <th>Channel</th>\n",
       "    </tr>\n",
       "  </thead>\n",
       "  <tbody>\n",
       "    <tr>\n",
       "      <th>395</th>\n",
       "      <td>cviyIIvBlto</td>\n",
       "      <td>100.0</td>\n",
       "      <td>Kerry Wong</td>\n",
       "    </tr>\n",
       "    <tr>\n",
       "      <th>424</th>\n",
       "      <td>jLa9wZHiqxg</td>\n",
       "      <td>100.0</td>\n",
       "      <td>Rad Universe</td>\n",
       "    </tr>\n",
       "    <tr>\n",
       "      <th>466</th>\n",
       "      <td>S-a8NVEUO4E</td>\n",
       "      <td>100.0</td>\n",
       "      <td>E! Live from the Red Carpet</td>\n",
       "    </tr>\n",
       "    <tr>\n",
       "      <th>601</th>\n",
       "      <td>wBjAmThxDpA</td>\n",
       "      <td>100.0</td>\n",
       "      <td>Vertical Entertainment LA</td>\n",
       "    </tr>\n",
       "    <tr>\n",
       "      <th>612</th>\n",
       "      <td>_zl2GV89_GM</td>\n",
       "      <td>100.0</td>\n",
       "      <td>Cosmic Book News</td>\n",
       "    </tr>\n",
       "    <tr>\n",
       "      <th>821</th>\n",
       "      <td>lJj66BCiZWQ</td>\n",
       "      <td>100.0</td>\n",
       "      <td>Eric Blattberg</td>\n",
       "    </tr>\n",
       "    <tr>\n",
       "      <th>972</th>\n",
       "      <td>BNRUV3TuExQ</td>\n",
       "      <td>100.0</td>\n",
       "      <td>Fathom Events</td>\n",
       "    </tr>\n",
       "    <tr>\n",
       "      <th>1317</th>\n",
       "      <td>zuKX0fPlo2Q</td>\n",
       "      <td>100.0</td>\n",
       "      <td>Thomas Bikias</td>\n",
       "    </tr>\n",
       "    <tr>\n",
       "      <th>1454</th>\n",
       "      <td>Ekc7lWx0468</td>\n",
       "      <td>100.0</td>\n",
       "      <td>The Illusion contest</td>\n",
       "    </tr>\n",
       "    <tr>\n",
       "      <th>1539</th>\n",
       "      <td>HjfN2Phsfng</td>\n",
       "      <td>100.0</td>\n",
       "      <td>weatherguru76</td>\n",
       "    </tr>\n",
       "    <tr>\n",
       "      <th>1587</th>\n",
       "      <td>dsH83p_mfEs</td>\n",
       "      <td>100.0</td>\n",
       "      <td>The Royal Butler</td>\n",
       "    </tr>\n",
       "    <tr>\n",
       "      <th>1775</th>\n",
       "      <td>UJKl7ToDi20</td>\n",
       "      <td>100.0</td>\n",
       "      <td>UCF Knights</td>\n",
       "    </tr>\n",
       "    <tr>\n",
       "      <th>1848</th>\n",
       "      <td>KQ19fT4BQQU</td>\n",
       "      <td>100.0</td>\n",
       "      <td>Arcus-3D</td>\n",
       "    </tr>\n",
       "    <tr>\n",
       "      <th>1911</th>\n",
       "      <td>mi52IqpOp54</td>\n",
       "      <td>100.0</td>\n",
       "      <td>Kevin Noon</td>\n",
       "    </tr>\n",
       "    <tr>\n",
       "      <th>1912</th>\n",
       "      <td>94U8bow4CU4</td>\n",
       "      <td>100.0</td>\n",
       "      <td>Shawn Setaro</td>\n",
       "    </tr>\n",
       "    <tr>\n",
       "      <th>1956</th>\n",
       "      <td>W2gnef0LtBE</td>\n",
       "      <td>100.0</td>\n",
       "      <td>Asmodee Digital</td>\n",
       "    </tr>\n",
       "  </tbody>\n",
       "</table>\n",
       "</div>"
      ],
      "text/plain": [
       "         video_id  Positive Percentage                      Channel\n",
       "395   cviyIIvBlto                100.0                   Kerry Wong\n",
       "424   jLa9wZHiqxg                100.0                 Rad Universe\n",
       "466   S-a8NVEUO4E                100.0  E! Live from the Red Carpet\n",
       "601   wBjAmThxDpA                100.0    Vertical Entertainment LA\n",
       "612   _zl2GV89_GM                100.0             Cosmic Book News\n",
       "821   lJj66BCiZWQ                100.0               Eric Blattberg\n",
       "972   BNRUV3TuExQ                100.0                Fathom Events\n",
       "1317  zuKX0fPlo2Q                100.0                Thomas Bikias\n",
       "1454  Ekc7lWx0468                100.0         The Illusion contest\n",
       "1539  HjfN2Phsfng                100.0                weatherguru76\n",
       "1587  dsH83p_mfEs                100.0             The Royal Butler\n",
       "1775  UJKl7ToDi20                100.0                  UCF Knights\n",
       "1848  KQ19fT4BQQU                100.0                     Arcus-3D\n",
       "1911  mi52IqpOp54                100.0                   Kevin Noon\n",
       "1912  94U8bow4CU4                100.0                 Shawn Setaro\n",
       "1956  W2gnef0LtBE                100.0              Asmodee Digital"
      ]
     },
     "execution_count": 80,
     "metadata": {},
     "output_type": "execute_result"
    }
   ],
   "source": [
    "Positivity[Positivity['Positive Percentage'] == Positivity['Positive Percentage'].max()]"
   ]
  },
  {
   "cell_type": "code",
   "execution_count": 81,
   "id": "41863bc0",
   "metadata": {},
   "outputs": [
    {
     "data": {
      "text/html": [
       "<div>\n",
       "<style scoped>\n",
       "    .dataframe tbody tr th:only-of-type {\n",
       "        vertical-align: middle;\n",
       "    }\n",
       "\n",
       "    .dataframe tbody tr th {\n",
       "        vertical-align: top;\n",
       "    }\n",
       "\n",
       "    .dataframe thead th {\n",
       "        text-align: right;\n",
       "    }\n",
       "</style>\n",
       "<table border=\"1\" class=\"dataframe\">\n",
       "  <thead>\n",
       "    <tr style=\"text-align: right;\">\n",
       "      <th></th>\n",
       "      <th>video_id</th>\n",
       "      <th>Positive Percentage</th>\n",
       "      <th>Channel</th>\n",
       "    </tr>\n",
       "  </thead>\n",
       "  <tbody>\n",
       "    <tr>\n",
       "      <th>117</th>\n",
       "      <td>3hq2c9vdfls</td>\n",
       "      <td>0.0</td>\n",
       "      <td>Cal Bears</td>\n",
       "    </tr>\n",
       "    <tr>\n",
       "      <th>151</th>\n",
       "      <td>7Ag2oDIeLvo</td>\n",
       "      <td>0.0</td>\n",
       "      <td>OsbornTramain</td>\n",
       "    </tr>\n",
       "    <tr>\n",
       "      <th>420</th>\n",
       "      <td>p7sooI96zPI</td>\n",
       "      <td>0.0</td>\n",
       "      <td>Geezus66</td>\n",
       "    </tr>\n",
       "    <tr>\n",
       "      <th>468</th>\n",
       "      <td>Oz88_p125uM</td>\n",
       "      <td>0.0</td>\n",
       "      <td>ViralVideoUK</td>\n",
       "    </tr>\n",
       "    <tr>\n",
       "      <th>592</th>\n",
       "      <td>BfxOimRxXvU</td>\n",
       "      <td>0.0</td>\n",
       "      <td>Andro Hack</td>\n",
       "    </tr>\n",
       "    <tr>\n",
       "      <th>604</th>\n",
       "      <td>k8LF_FU2luY</td>\n",
       "      <td>0.0</td>\n",
       "      <td>Bollinger Motors</td>\n",
       "    </tr>\n",
       "    <tr>\n",
       "      <th>611</th>\n",
       "      <td>tbDr_zAcM5g</td>\n",
       "      <td>0.0</td>\n",
       "      <td>Maharishi University of Management</td>\n",
       "    </tr>\n",
       "    <tr>\n",
       "      <th>629</th>\n",
       "      <td>HpxsQ1_UAec</td>\n",
       "      <td>0.0</td>\n",
       "      <td>Manto kay SO Afsanay</td>\n",
       "    </tr>\n",
       "    <tr>\n",
       "      <th>811</th>\n",
       "      <td>EZaPeQ2dxh8</td>\n",
       "      <td>0.0</td>\n",
       "      <td>Malhar Takle</td>\n",
       "    </tr>\n",
       "    <tr>\n",
       "      <th>819</th>\n",
       "      <td>D6zUj1tKxiU</td>\n",
       "      <td>0.0</td>\n",
       "      <td>Xposure 365 TV</td>\n",
       "    </tr>\n",
       "    <tr>\n",
       "      <th>820</th>\n",
       "      <td>mShBE_wHAk8</td>\n",
       "      <td>0.0</td>\n",
       "      <td>Adam Sifounakis</td>\n",
       "    </tr>\n",
       "    <tr>\n",
       "      <th>1069</th>\n",
       "      <td>j8i18Wiaq7Q</td>\n",
       "      <td>0.0</td>\n",
       "      <td>Al Jazeera Arabic قناة الجزيرة</td>\n",
       "    </tr>\n",
       "    <tr>\n",
       "      <th>1253</th>\n",
       "      <td>jzr49a04olU</td>\n",
       "      <td>0.0</td>\n",
       "      <td>Luke Skaff</td>\n",
       "    </tr>\n",
       "    <tr>\n",
       "      <th>1254</th>\n",
       "      <td>QWtGGoHT4H8</td>\n",
       "      <td>0.0</td>\n",
       "      <td>CNBC</td>\n",
       "    </tr>\n",
       "    <tr>\n",
       "      <th>1464</th>\n",
       "      <td>-3AGlBYyLjo</td>\n",
       "      <td>0.0</td>\n",
       "      <td>CrazyLaughAction</td>\n",
       "    </tr>\n",
       "    <tr>\n",
       "      <th>1467</th>\n",
       "      <td>2bOeaS1wREE</td>\n",
       "      <td>0.0</td>\n",
       "      <td>Washington Post</td>\n",
       "    </tr>\n",
       "    <tr>\n",
       "      <th>1586</th>\n",
       "      <td>c5RsAXsZvI8</td>\n",
       "      <td>0.0</td>\n",
       "      <td>Clicker Learning Institute for Cats and Kittens</td>\n",
       "    </tr>\n",
       "    <tr>\n",
       "      <th>1857</th>\n",
       "      <td>tetLuLLWxKM</td>\n",
       "      <td>0.0</td>\n",
       "      <td>TMZ</td>\n",
       "    </tr>\n",
       "    <tr>\n",
       "      <th>2063</th>\n",
       "      <td>k5qKGNeRb68</td>\n",
       "      <td>0.0</td>\n",
       "      <td>Triz Cru TV</td>\n",
       "    </tr>\n",
       "    <tr>\n",
       "      <th>2235</th>\n",
       "      <td>CEdAjI801Wo</td>\n",
       "      <td>0.0</td>\n",
       "      <td>BUILD Series</td>\n",
       "    </tr>\n",
       "    <tr>\n",
       "      <th>2237</th>\n",
       "      <td>eLhPdGZaotQ</td>\n",
       "      <td>0.0</td>\n",
       "      <td>WSUCougarAthletics</td>\n",
       "    </tr>\n",
       "  </tbody>\n",
       "</table>\n",
       "</div>"
      ],
      "text/plain": [
       "         video_id  Positive Percentage  \\\n",
       "117   3hq2c9vdfls                  0.0   \n",
       "151   7Ag2oDIeLvo                  0.0   \n",
       "420   p7sooI96zPI                  0.0   \n",
       "468   Oz88_p125uM                  0.0   \n",
       "592   BfxOimRxXvU                  0.0   \n",
       "604   k8LF_FU2luY                  0.0   \n",
       "611   tbDr_zAcM5g                  0.0   \n",
       "629   HpxsQ1_UAec                  0.0   \n",
       "811   EZaPeQ2dxh8                  0.0   \n",
       "819   D6zUj1tKxiU                  0.0   \n",
       "820   mShBE_wHAk8                  0.0   \n",
       "1069  j8i18Wiaq7Q                  0.0   \n",
       "1253  jzr49a04olU                  0.0   \n",
       "1254  QWtGGoHT4H8                  0.0   \n",
       "1464  -3AGlBYyLjo                  0.0   \n",
       "1467  2bOeaS1wREE                  0.0   \n",
       "1586  c5RsAXsZvI8                  0.0   \n",
       "1857  tetLuLLWxKM                  0.0   \n",
       "2063  k5qKGNeRb68                  0.0   \n",
       "2235  CEdAjI801Wo                  0.0   \n",
       "2237  eLhPdGZaotQ                  0.0   \n",
       "\n",
       "                                              Channel  \n",
       "117                                         Cal Bears  \n",
       "151                                     OsbornTramain  \n",
       "420                                          Geezus66  \n",
       "468                                      ViralVideoUK  \n",
       "592                                        Andro Hack  \n",
       "604                                  Bollinger Motors  \n",
       "611                Maharishi University of Management  \n",
       "629                              Manto kay SO Afsanay  \n",
       "811                                      Malhar Takle  \n",
       "819                                    Xposure 365 TV  \n",
       "820                                   Adam Sifounakis  \n",
       "1069                   Al Jazeera Arabic قناة الجزيرة  \n",
       "1253                                       Luke Skaff  \n",
       "1254                                             CNBC  \n",
       "1464                                 CrazyLaughAction  \n",
       "1467                                  Washington Post  \n",
       "1586  Clicker Learning Institute for Cats and Kittens  \n",
       "1857                                              TMZ  \n",
       "2063                                      Triz Cru TV  \n",
       "2235                                     BUILD Series  \n",
       "2237                               WSUCougarAthletics  "
      ]
     },
     "execution_count": 81,
     "metadata": {},
     "output_type": "execute_result"
    }
   ],
   "source": [
    "Positivity[Positivity['Positive Percentage'] == Positivity['Positive Percentage'].min()]\n"
   ]
  },
  {
   "cell_type": "code",
   "execution_count": null,
   "id": "7f6d73e8",
   "metadata": {},
   "outputs": [],
   "source": []
  }
 ],
 "metadata": {
  "kernelspec": {
   "display_name": "Python 3 (ipykernel)",
   "language": "python",
   "name": "python3"
  },
  "language_info": {
   "codemirror_mode": {
    "name": "ipython",
    "version": 3
   },
   "file_extension": ".py",
   "mimetype": "text/x-python",
   "name": "python",
   "nbconvert_exporter": "python",
   "pygments_lexer": "ipython3",
   "version": "3.8.12"
  }
 },
 "nbformat": 4,
 "nbformat_minor": 5
}
